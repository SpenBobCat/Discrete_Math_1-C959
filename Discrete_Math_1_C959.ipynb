{
  "nbformat": 4,
  "nbformat_minor": 0,
  "metadata": {
    "colab": {
      "provenance": [],
      "toc_visible": true,
      "authorship_tag": "ABX9TyPUk9N/WykDGp1oK8LsySCz",
      "include_colab_link": true
    },
    "kernelspec": {
      "name": "python3",
      "display_name": "Python 3"
    },
    "language_info": {
      "name": "python"
    }
  },
  "cells": [
    {
      "cell_type": "markdown",
      "metadata": {
        "id": "view-in-github",
        "colab_type": "text"
      },
      "source": [
        "<a href=\"https://colab.research.google.com/github/SpenBobCat/Discrete_Math_1-C959/blob/main/Discrete_Math_1_C959.ipynb\" target=\"_parent\"><img src=\"https://colab.research.google.com/assets/colab-badge.svg\" alt=\"Open In Colab\"/></a>"
      ]
    },
    {
      "cell_type": "markdown",
      "source": [
        "# DISCRETE MATHEMATICS I - C959\n",
        "\n",
        "Western Governors University\n",
        "\n",
        "Computer Science"
      ],
      "metadata": {
        "id": "YRCg4fhgCBJD"
      }
    },
    {
      "cell_type": "markdown",
      "source": [
        "## Chapter 1. Unit 1.\n",
        "\n",
        "Notes:\n",
        "\n",
        "1. conjunction operation\n",
        "\n",
        "conjunction operation is denoted by ∧\n",
        "\n",
        "The proposition p ∧ q is read \"p and q\" and is called the **conjunction** of p and q. p ∧ q is true if both p is true and q is true. p ∧ q is false if p is false, q is false, or both are false.\n",
        "\n",
        "\n",
        "2.  disjunction operation\n",
        "\n",
        "disjunction operation is denoted by ∨\n",
        "\n",
        "The proposition p ∨ q is read \"p or q\", and is called the **disjunction** of p and q. p ∨ q is true if either one of p or q is true, or if both are true. The proposition p ∨ q is false if neither p nor q is true.\n",
        "\n",
        "3. exclusive or operation\n",
        "\n",
        "The **exclusive or** of p and q evaluates to true when p is true and q is false or when q is true and p is false.\n",
        "\n",
        "The exclusive or operation is usually denoted with the symbol ⊕. The proposition p ⊕ q is true if exactly one of the propositions p or q is true but not both.\n",
        "\n",
        "4. inclusive or operation\n",
        "\n",
        "The **inclusive or** operation is the same as the disjunction (∨) operation and evaluates to true when one or both of the propositions are true.\n",
        "\n",
        "5.  negation operation\n",
        "\n",
        "The negation operation acts on just one proposition and has the effect of reversing the truth value of the proposition. The negation of proposition p is denoted ¬p and is read as \"not p\".\n",
        "\n"
      ],
      "metadata": {
        "id": "J71azj-RCSJZ"
      }
    },
    {
      "cell_type": "markdown",
      "source": [
        "\n",
        "Order of operations in absence of parentheses.\n",
        "\n",
        "    ¬ (not)\n",
        "    ∧ (and)\n",
        "    ∨ (or)\n",
        "\n"
      ],
      "metadata": {
        "id": "v178_aWnEvOu"
      }
    },
    {
      "cell_type": "markdown",
      "source": [
        "6.  conditional operation\n",
        "\n",
        "The conditional operation is denoted with the symbol →. The proposition p → q is read \"if p then q\". The proposition p → q is false if p is true and q is false; otherwise, p → q is true.\n",
        "\n",
        "7.  The converse, contrapositive, and inverse\n",
        "\n",
        "Three conditional statements related to proposition p → q are so common that they have special names. The converse of p → q is q → p. The contrapositive of p → q is ¬q → ¬p.The inverse of p → q is ¬p → ¬q.\n",
        "\n",
        "8.  biconditional operation\n",
        "\n",
        "If p and q are propositions, the proposition \"p if and only if q\" is expressed with the biconditional operation and is denoted p ↔ q. The proposition p ↔ q is true when p and q have the same truth value and is false when p and q have different truth values.\n",
        "\n",
        "9.  logically equivalent\n",
        "\n",
        "Two compound propositions are said to be logically equivalent if they have the same truth value regardless of the truth values of their individual propositions. If s and r are two compound propositions, the notation s ≡ r is used to indicate that r and s are logically equivalent.\n",
        "\n",
        "For example, p and ¬¬p have the same truth value regardless of whether p is true or false, so p ≡ ¬¬p. Propositions s and r are logically equivalent if and only if the proposition s ↔ r is a tautology.\n",
        "\n",
        "\n"
      ],
      "metadata": {
        "id": "YYW5E7I3ExTg"
      }
    }
  ]
}